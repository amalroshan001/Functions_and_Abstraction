{
 "cells": [
  {
   "cell_type": "markdown",
   "id": "24fb7441",
   "metadata": {},
   "source": [
    "### DEF Function"
   ]
  },
  {
   "cell_type": "code",
   "execution_count": 3,
   "id": "82a67517",
   "metadata": {},
   "outputs": [],
   "source": [
    "# def for defining function\n",
    "#task/operation\n",
    "#defenition\n",
    "#calling"
   ]
  },
  {
   "cell_type": "code",
   "execution_count": 4,
   "id": "7240a976",
   "metadata": {},
   "outputs": [],
   "source": [
    "def wish(name):\n",
    "    return f\"Happy New Year {name}\"  #body of function"
   ]
  },
  {
   "cell_type": "code",
   "execution_count": 5,
   "id": "fbd0d917",
   "metadata": {},
   "outputs": [
    {
     "data": {
      "text/plain": [
       "'Happy New Year Amal'"
      ]
     },
     "execution_count": 5,
     "metadata": {},
     "output_type": "execute_result"
    }
   ],
   "source": [
    "wish(\"Amal\")"
   ]
  },
  {
   "cell_type": "code",
   "execution_count": null,
   "id": "de4fbd3f",
   "metadata": {},
   "outputs": [],
   "source": []
  },
  {
   "cell_type": "code",
   "execution_count": 6,
   "id": "045f9a2c",
   "metadata": {},
   "outputs": [],
   "source": [
    "def old(name,age):\n",
    "    \"\"\"This Function Will Display The Name And Age OF The User\"\"\"\n",
    "    return name +\" \"+\"You are\"+\" \"+str(age)+ \" \"+\"years old\""
   ]
  },
  {
   "cell_type": "code",
   "execution_count": 7,
   "id": "0d197be8",
   "metadata": {},
   "outputs": [
    {
     "data": {
      "text/plain": [
       "'Amal You are 22 years old'"
      ]
     },
     "execution_count": 7,
     "metadata": {},
     "output_type": "execute_result"
    }
   ],
   "source": [
    "old(\"Amal\",\"22\")"
   ]
  },
  {
   "cell_type": "code",
   "execution_count": 8,
   "id": "e1d51ff8",
   "metadata": {},
   "outputs": [
    {
     "data": {
      "text/plain": [
       "'Jack You are 36 years old'"
      ]
     },
     "execution_count": 8,
     "metadata": {},
     "output_type": "execute_result"
    }
   ],
   "source": [
    "old(\"Jack\",36)"
   ]
  },
  {
   "cell_type": "code",
   "execution_count": 9,
   "id": "37690a6a",
   "metadata": {},
   "outputs": [
    {
     "name": "stdout",
     "output_type": "stream",
     "text": [
      "Help on function old in module __main__:\n",
      "\n",
      "old(name, age)\n",
      "    This Function Will Display The Name And Age OF The User\n",
      "\n"
     ]
    }
   ],
   "source": [
    "help(old)"
   ]
  },
  {
   "cell_type": "code",
   "execution_count": null,
   "id": "6bd94238",
   "metadata": {},
   "outputs": [],
   "source": []
  },
  {
   "cell_type": "code",
   "execution_count": 10,
   "id": "ffb6a331",
   "metadata": {},
   "outputs": [
    {
     "data": {
      "text/plain": [
       "'Amal You Are 22 Years Old'"
      ]
     },
     "execution_count": 10,
     "metadata": {},
     "output_type": "execute_result"
    }
   ],
   "source": [
    "def wish(name,age):\n",
    "    final_output= f\"{name} You Are {age} Years Old\"\n",
    "    return final_output\n",
    "wish(\"Amal\",22)"
   ]
  },
  {
   "cell_type": "code",
   "execution_count": null,
   "id": "cbf5aaa8",
   "metadata": {},
   "outputs": [],
   "source": []
  },
  {
   "cell_type": "code",
   "execution_count": 11,
   "id": "0ab8bff5",
   "metadata": {},
   "outputs": [
    {
     "data": {
      "text/plain": [
       "'Mr. Amal'"
      ]
     },
     "execution_count": 11,
     "metadata": {},
     "output_type": "execute_result"
    }
   ],
   "source": [
    "def change_param(n):\n",
    "    n=\"Mr. Amal\"\n",
    "    return n\n",
    "output=\"Mr. Arif\"\n",
    "change_param(output)"
   ]
  },
  {
   "cell_type": "markdown",
   "id": "dbeb6221",
   "metadata": {},
   "source": [
    "### Task"
   ]
  },
  {
   "cell_type": "markdown",
   "id": "c48d1c20",
   "metadata": {},
   "source": [
    "1. Receive 3 parameters and to a task by using all those parameters\n",
    "2. Write a function to find the given number is odd or even\n",
    "3. Write a function which will send a notification to the user to pay his hostel fee by mentioning his name and bill if it is end of the month(greater than 25)?"
   ]
  },
  {
   "cell_type": "code",
   "execution_count": 12,
   "id": "0a60ae7d",
   "metadata": {},
   "outputs": [
    {
     "name": "stdout",
     "output_type": "stream",
     "text": [
      "Enter Your Name : Amal Roshan\n",
      "Enter Your University : Calicu\n",
      "Enter Your Year Of Graduation : 2023\n"
     ]
    },
    {
     "data": {
      "text/plain": [
       "'Hey Amal Roshan , you have completed degree in Calicu on the year of 2023'"
      ]
     },
     "execution_count": 12,
     "metadata": {},
     "output_type": "execute_result"
    }
   ],
   "source": [
    "def wish(name,university,year):\n",
    "    name=input(\"Enter Your Name : \")\n",
    "    university=input(\"Enter Your University : \")\n",
    "    year=input(\"Enter Your Year Of Graduation : \")\n",
    "    return f\"Hey {name} , you have completed degree in {university} on the year of {year}\"\n",
    "wish(\"name\",\"university\",\"year\")"
   ]
  },
  {
   "cell_type": "code",
   "execution_count": 15,
   "id": "9d0e37be",
   "metadata": {},
   "outputs": [
    {
     "name": "stdout",
     "output_type": "stream",
     "text": [
      "Enter A Number : 78\n"
     ]
    },
    {
     "data": {
      "text/plain": [
       "'even'"
      ]
     },
     "execution_count": 15,
     "metadata": {},
     "output_type": "execute_result"
    }
   ],
   "source": [
    "def find_odd_even(number):\n",
    "    number=int(input(\"Enter A Number : \"))\n",
    "    if number%2==0:\n",
    "        return \"even\"\n",
    "    else:\n",
    "        return \"odd\"\n",
    "find_odd_even(\"number\")"
   ]
  },
  {
   "cell_type": "code",
   "execution_count": null,
   "id": "5bf79f65",
   "metadata": {},
   "outputs": [],
   "source": []
  },
  {
   "cell_type": "code",
   "execution_count": null,
   "id": "88ff18c5",
   "metadata": {},
   "outputs": [],
   "source": []
  },
  {
   "cell_type": "code",
   "execution_count": null,
   "id": "6d2fc899",
   "metadata": {},
   "outputs": [],
   "source": []
  },
  {
   "cell_type": "code",
   "execution_count": null,
   "id": "0d71f245",
   "metadata": {},
   "outputs": [],
   "source": []
  },
  {
   "cell_type": "code",
   "execution_count": null,
   "id": "16c6d326",
   "metadata": {},
   "outputs": [],
   "source": []
  },
  {
   "cell_type": "code",
   "execution_count": null,
   "id": "5ce5dfe2",
   "metadata": {},
   "outputs": [],
   "source": []
  },
  {
   "cell_type": "code",
   "execution_count": null,
   "id": "9cc9809b",
   "metadata": {},
   "outputs": [],
   "source": []
  },
  {
   "cell_type": "code",
   "execution_count": null,
   "id": "b4baaba2",
   "metadata": {},
   "outputs": [],
   "source": []
  },
  {
   "cell_type": "code",
   "execution_count": 20,
   "id": "7a817880",
   "metadata": {},
   "outputs": [],
   "source": [
    "storage={}\n",
    "storage['first']={}\n",
    "storage['middle']={}\n",
    "storage['last']={}"
   ]
  },
  {
   "cell_type": "code",
   "execution_count": 21,
   "id": "9b8d0759",
   "metadata": {},
   "outputs": [
    {
     "data": {
      "text/plain": [
       "{'first': {}, 'middle': {}, 'last': {}}"
      ]
     },
     "execution_count": 21,
     "metadata": {},
     "output_type": "execute_result"
    }
   ],
   "source": [
    "storage"
   ]
  },
  {
   "cell_type": "code",
   "execution_count": 22,
   "id": "45878e51",
   "metadata": {},
   "outputs": [],
   "source": [
    "p1 = 'Muhammed Bin Rashid'\n",
    "storage['first']['Muhammed']=[p1]\n",
    "storage['middle']['Bin']=[p1]\n",
    "storage['last']['Rashid']=[p1]"
   ]
  },
  {
   "cell_type": "code",
   "execution_count": 23,
   "id": "a5e1920c",
   "metadata": {},
   "outputs": [
    {
     "data": {
      "text/plain": [
       "{'first': {'Muhammed': ['Muhammed Bin Rashid']},\n",
       " 'middle': {'Bin': ['Muhammed Bin Rashid']},\n",
       " 'last': {'Rashid': ['Muhammed Bin Rashid']}}"
      ]
     },
     "execution_count": 23,
     "metadata": {},
     "output_type": "execute_result"
    }
   ],
   "source": [
    "storage"
   ]
  },
  {
   "cell_type": "code",
   "execution_count": 24,
   "id": "bf6a802b",
   "metadata": {},
   "outputs": [
    {
     "data": {
      "text/plain": [
       "['Muhammed Bin Rashid']"
      ]
     },
     "execution_count": 24,
     "metadata": {},
     "output_type": "execute_result"
    }
   ],
   "source": [
    "storage['first']['Muhammed']"
   ]
  },
  {
   "cell_type": "code",
   "execution_count": null,
   "id": "2dca2ad5",
   "metadata": {},
   "outputs": [],
   "source": []
  },
  {
   "cell_type": "code",
   "execution_count": 10,
   "id": "93426921",
   "metadata": {},
   "outputs": [],
   "source": [
    "def wish(name,college,year):\n",
    "    return f\"{name} you have completed degree from {college} on {year}\""
   ]
  },
  {
   "cell_type": "code",
   "execution_count": null,
   "id": "6da2e418",
   "metadata": {},
   "outputs": [],
   "source": []
  },
  {
   "cell_type": "code",
   "execution_count": 11,
   "id": "2b136e8a",
   "metadata": {},
   "outputs": [],
   "source": [
    "params=(\"Alex\",\"Maharajas College\",2022,)"
   ]
  },
  {
   "cell_type": "code",
   "execution_count": 12,
   "id": "2342b051",
   "metadata": {},
   "outputs": [
    {
     "data": {
      "text/plain": [
       "'Alex you have completed degree from Maharajas College on 2022'"
      ]
     },
     "execution_count": 12,
     "metadata": {},
     "output_type": "execute_result"
    }
   ],
   "source": [
    "wish(*params)"
   ]
  },
  {
   "cell_type": "code",
   "execution_count": null,
   "id": "51e570c1",
   "metadata": {},
   "outputs": [],
   "source": []
  },
  {
   "cell_type": "code",
   "execution_count": 18,
   "id": "cfb8c664",
   "metadata": {},
   "outputs": [],
   "source": [
    "def celeb(name,age,occupation):\n",
    "    return f\"{name} is a celebrity with somany followers and he is only {age} also he is a great {occupation}.\""
   ]
  },
  {
   "cell_type": "code",
   "execution_count": 19,
   "id": "1fc154e1",
   "metadata": {},
   "outputs": [
    {
     "data": {
      "text/plain": [
       "'Johny Depp is a celebrity with somany followers and he is only 45 also he is a great Actor.'"
      ]
     },
     "execution_count": 19,
     "metadata": {},
     "output_type": "execute_result"
    }
   ],
   "source": [
    "celeb(\"Johny Depp\",45,\"Actor\")"
   ]
  },
  {
   "cell_type": "code",
   "execution_count": 20,
   "id": "42a31564",
   "metadata": {},
   "outputs": [],
   "source": [
    "params=(\"Margott Robbie\",30,\"Actress\")"
   ]
  },
  {
   "cell_type": "code",
   "execution_count": 23,
   "id": "1760c1c1",
   "metadata": {},
   "outputs": [
    {
     "data": {
      "text/plain": [
       "'Margott Robbie is a celebrity with somany followers and he is only 30 also he is a great Actress.'"
      ]
     },
     "execution_count": 23,
     "metadata": {},
     "output_type": "execute_result"
    }
   ],
   "source": [
    "celeb(*params)"
   ]
  },
  {
   "cell_type": "code",
   "execution_count": null,
   "id": "ef0eb65f",
   "metadata": {},
   "outputs": [],
   "source": []
  },
  {
   "cell_type": "code",
   "execution_count": null,
   "id": "e2746467",
   "metadata": {},
   "outputs": [],
   "source": []
  },
  {
   "cell_type": "markdown",
   "id": "d56e700c",
   "metadata": {},
   "source": [
    "### MORE FUNCTIONS"
   ]
  },
  {
   "cell_type": "markdown",
   "id": "5cc797fc",
   "metadata": {},
   "source": [
    "#### Map"
   ]
  },
  {
   "cell_type": "code",
   "execution_count": 3,
   "id": "9c7bae25",
   "metadata": {},
   "outputs": [
    {
     "data": {
      "text/plain": [
       "[0, 1, 2, 3, 4, 5, 6, 7, 8, 9]"
      ]
     },
     "execution_count": 3,
     "metadata": {},
     "output_type": "execute_result"
    }
   ],
   "source": [
    "list(range(10))"
   ]
  },
  {
   "cell_type": "code",
   "execution_count": 4,
   "id": "fcbb15b4",
   "metadata": {},
   "outputs": [],
   "source": [
    "def square (val):\n",
    "    return val**2"
   ]
  },
  {
   "cell_type": "code",
   "execution_count": 5,
   "id": "3025bc97",
   "metadata": {},
   "outputs": [
    {
     "data": {
      "text/plain": [
       "100"
      ]
     },
     "execution_count": 5,
     "metadata": {},
     "output_type": "execute_result"
    }
   ],
   "source": [
    "square(10)"
   ]
  },
  {
   "cell_type": "code",
   "execution_count": 8,
   "id": "5f518f52",
   "metadata": {},
   "outputs": [
    {
     "data": {
      "text/plain": [
       "[2, 4, 6, 8, 10]"
      ]
     },
     "execution_count": 8,
     "metadata": {},
     "output_type": "execute_result"
    }
   ],
   "source": [
    "list(range(2,12,2))"
   ]
  },
  {
   "cell_type": "code",
   "execution_count": 12,
   "id": "7981b6b0",
   "metadata": {},
   "outputs": [
    {
     "data": {
      "text/plain": [
       "[4, 16, 36, 64, 100]"
      ]
     },
     "execution_count": 12,
     "metadata": {},
     "output_type": "execute_result"
    }
   ],
   "source": [
    "list(map(square,range(2,12,2)))"
   ]
  },
  {
   "cell_type": "code",
   "execution_count": 13,
   "id": "4084a3ac",
   "metadata": {},
   "outputs": [
    {
     "data": {
      "text/plain": [
       "(4, 16, 36, 64, 100, 144, 196, 256, 324, 400)"
      ]
     },
     "execution_count": 13,
     "metadata": {},
     "output_type": "execute_result"
    }
   ],
   "source": [
    "tuple(map(square,range(2,22,2)))"
   ]
  },
  {
   "cell_type": "code",
   "execution_count": null,
   "id": "ac808f3d",
   "metadata": {},
   "outputs": [],
   "source": []
  },
  {
   "cell_type": "code",
   "execution_count": 18,
   "id": "e61a9e31",
   "metadata": {},
   "outputs": [
    {
     "name": "stdout",
     "output_type": "stream",
     "text": [
      "[1, 8, 125, 64, 216]\n"
     ]
    }
   ],
   "source": [
    "org_list=[1,2,5,4,6]\n",
    "def cube(num):\n",
    "    return num**3\n",
    "fin_list=list(map(cube,org_list))\n",
    "print(fin_list)"
   ]
  },
  {
   "cell_type": "code",
   "execution_count": null,
   "id": "396ded01",
   "metadata": {},
   "outputs": [],
   "source": []
  },
  {
   "cell_type": "markdown",
   "id": "7a397888",
   "metadata": {},
   "source": [
    "#### FILTER"
   ]
  },
  {
   "cell_type": "code",
   "execution_count": 20,
   "id": "97540827",
   "metadata": {},
   "outputs": [],
   "source": [
    "def funct(x):\n",
    "    return x.isalnum()"
   ]
  },
  {
   "cell_type": "code",
   "execution_count": 21,
   "id": "fb5b6e5c",
   "metadata": {},
   "outputs": [],
   "source": [
    "seq=[\"one\",\"two\",\"*-)\",\"?/\"]"
   ]
  },
  {
   "cell_type": "code",
   "execution_count": 22,
   "id": "9cd279f0",
   "metadata": {},
   "outputs": [
    {
     "data": {
      "text/plain": [
       "['one', 'two']"
      ]
     },
     "execution_count": 22,
     "metadata": {},
     "output_type": "execute_result"
    }
   ],
   "source": [
    "list(filter(funct,seq))"
   ]
  },
  {
   "cell_type": "code",
   "execution_count": null,
   "id": "cf5a8b1d",
   "metadata": {},
   "outputs": [],
   "source": []
  },
  {
   "cell_type": "code",
   "execution_count": 29,
   "id": "a543aa57",
   "metadata": {},
   "outputs": [
    {
     "data": {
      "text/plain": [
       "['banana', 'papaya', 'coca']"
      ]
     },
     "execution_count": 29,
     "metadata": {},
     "output_type": "execute_result"
    }
   ],
   "source": [
    "words=[\"banana\",\"papaya\",\"cherry\",\"cucumber\",\"coca\",\"berry\"]\n",
    "def letter(x):\n",
    "    return x[-1]==\"a\"\n",
    "list(filter(letter,words))"
   ]
  },
  {
   "cell_type": "code",
   "execution_count": null,
   "id": "e8a8bb8a",
   "metadata": {},
   "outputs": [],
   "source": []
  },
  {
   "cell_type": "code",
   "execution_count": 31,
   "id": "a897ae5a",
   "metadata": {},
   "outputs": [
    {
     "data": {
      "text/plain": [
       "['Amal', 'Arif', 'Abu']"
      ]
     },
     "execution_count": 31,
     "metadata": {},
     "output_type": "execute_result"
    }
   ],
   "source": [
    "names=[\"Amal\",\"Arif\",\"Abu\",\"Raihan Beerankutty Ummar\",\"Valeed\"]\n",
    "def letters(n):\n",
    "    return len(n)<5\n",
    "list(filter(letters,names))"
   ]
  },
  {
   "cell_type": "code",
   "execution_count": null,
   "id": "1dfcce64",
   "metadata": {},
   "outputs": [],
   "source": []
  },
  {
   "cell_type": "markdown",
   "id": "c504461b",
   "metadata": {},
   "source": [
    "#### LAMBDA"
   ]
  },
  {
   "cell_type": "code",
   "execution_count": 41,
   "id": "19bb4ce8",
   "metadata": {},
   "outputs": [],
   "source": [
    "def funct(x):\n",
    "    return x.isalnum()"
   ]
  },
  {
   "cell_type": "code",
   "execution_count": 52,
   "id": "202141f2",
   "metadata": {},
   "outputs": [],
   "source": [
    "seq=[\"One\",\"Two\",\"Three\",\"?/}\",\"?>/\"]"
   ]
  },
  {
   "cell_type": "code",
   "execution_count": 53,
   "id": "037390e1",
   "metadata": {},
   "outputs": [
    {
     "data": {
      "text/plain": [
       "['One', 'Two', 'Three', '?/}', '?>/']"
      ]
     },
     "execution_count": 53,
     "metadata": {},
     "output_type": "execute_result"
    }
   ],
   "source": [
    "list(filter(lambda x: x.isalnum,seq))"
   ]
  },
  {
   "cell_type": "code",
   "execution_count": null,
   "id": "c4e0f3b3",
   "metadata": {},
   "outputs": [],
   "source": []
  },
  {
   "cell_type": "code",
   "execution_count": null,
   "id": "99d3bec2",
   "metadata": {},
   "outputs": [],
   "source": []
  }
 ],
 "metadata": {
  "kernelspec": {
   "display_name": "Python 3 (ipykernel)",
   "language": "python",
   "name": "python3"
  },
  "language_info": {
   "codemirror_mode": {
    "name": "ipython",
    "version": 3
   },
   "file_extension": ".py",
   "mimetype": "text/x-python",
   "name": "python",
   "nbconvert_exporter": "python",
   "pygments_lexer": "ipython3",
   "version": "3.10.9"
  }
 },
 "nbformat": 4,
 "nbformat_minor": 5
}
